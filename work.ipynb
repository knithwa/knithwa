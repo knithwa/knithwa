{
  "cells": [
    {
      "cell_type": "markdown",
      "metadata": {
        "id": "view-in-github",
        "colab_type": "text"
      },
      "source": [
        "<a href=\"https://colab.research.google.com/github/knithwa/knithwa/blob/submittion/work.ipynb\" target=\"_parent\"><img src=\"https://colab.research.google.com/assets/colab-badge.svg\" alt=\"Open In Colab\"/></a>"
      ]
    },
    {
      "cell_type": "code",
      "execution_count": null,
      "metadata": {
        "id": "BuEpx2ZMkMTk"
      },
      "outputs": [],
      "source": [
        "import numpy as np\n",
        "import pandas as pd\n",
        "import matplotlib.pyplot as plt\n",
        "import math\n",
        "\n"
      ]
    },
    {
      "cell_type": "code",
      "execution_count": null,
      "metadata": {
        "id": "4P_R-tD3l9a9"
      },
      "outputs": [],
      "source": [
        "df=pd.read_csv(\"darkmatter.txt\")\n",
        "\n"
      ]
    },
    {
      "cell_type": "code",
      "execution_count": null,
      "metadata": {
        "id": "iB98ZCGRrRwI"
      },
      "outputs": [],
      "source": [
        "df[['RA (degrees)','Dec (degrees)']]=df[['RA (degrees)','Dec (degrees)']]-[140.76398,75.5344]"
      ]
    },
    {
      "cell_type": "code",
      "execution_count": null,
      "metadata": {
        "id": "V1VcFOxTsi7e"
      },
      "outputs": [],
      "source": [
        "df[['RA (radian)','Dec (radian)']]=(df[['RA (degrees)','Dec (degrees)']])*(2*math.pi/180)"
      ]
    },
    {
      "cell_type": "code",
      "execution_count": null,
      "metadata": {
        "id": "VY61cOVAsj8V"
      },
      "outputs": [],
      "source": []
    },
    {
      "cell_type": "code",
      "execution_count": null,
      "metadata": {
        "id": "otLTdhFdxes4"
      },
      "outputs": [],
      "source": [
        "c=299792458\n",
        "z=pow(df['Redshift']+1,2)\n",
        "t=(z+1)/(z-1)\n",
        "df['vrad']=c/t\n",
        "df['vrtan']=4.74*df['Proper Motion (milliarcseconds/year)']*3500000/10\n",
        "\n",
        "\n"
      ]
    },
    {
      "cell_type": "code",
      "source": [
        "angle=pow(df['RA (radian)']*math.cos((75.5344*math.pi)/180),2)+pow(df['Dec (radian)'],2)\n",
        "df['ang_sep']=pow(angle,0.5)\n",
        "df['tang sep']=df['ang_sep']*3500*1000*3.083*pow(10,16)\n",
        "df['Vtot']=pow(pow(df['vrad'],2)+pow(df['vrtan'],2),0.5)\n",
        "df['r']=df['tang sep']/df['ang_sep']\n",
        "df['s']=df['r']*np.arctan(df['vrad']/df['vrtan'])\n"
      ],
      "metadata": {
        "id": "uP9C2UO0HQbF"
      },
      "execution_count": null,
      "outputs": []
    },
    {
      "cell_type": "code",
      "source": [
        "##df.plot(x='Vtot',y='r')\n",
        "plt.scatter(df['r'],df['Vtot'] )\n",
        "df[['Vtot','r','ang_sep','tang sep']]"
      ],
      "metadata": {
        "colab": {
          "base_uri": "https://localhost:8080/",
          "height": 870
        },
        "id": "xn62NzR1C_9Q",
        "outputId": "4b01e07f-916f-45f1-b641-3690de7f9de3"
      },
      "execution_count": null,
      "outputs": [
        {
          "output_type": "execute_result",
          "data": {
            "text/plain": [
              "             Vtot             r   ang_sep      tang sep\n",
              "0    3.678304e+05  1.079050e+23  0.013026  1.405517e+21\n",
              "1    1.315860e+05  1.079050e+23  0.006100  6.582713e+20\n",
              "2    2.710017e+05  1.079050e+23  0.001735  1.871725e+20\n",
              "3    1.166081e+05  1.079050e+23  0.003867  4.172682e+20\n",
              "4    2.878988e+05  1.079050e+23  0.001290  1.391498e+20\n",
              "..            ...           ...       ...           ...\n",
              "532  1.108875e+08  1.079050e+23  0.545478  5.885976e+22\n",
              "533  5.318027e+07  1.079050e+23  0.275722  2.975183e+22\n",
              "534  6.630878e+07  1.079050e+23  0.224953  2.427358e+22\n",
              "535  1.517244e+08  1.079050e+23  0.343098  3.702198e+22\n",
              "536  4.229370e+07  1.079050e+23  0.196996  2.125682e+22\n",
              "\n",
              "[537 rows x 4 columns]"
            ],
            "text/html": [
              "\n",
              "  <div id=\"df-e62f1e46-bfcf-4192-b37e-3b8f1b246cdc\">\n",
              "    <div class=\"colab-df-container\">\n",
              "      <div>\n",
              "<style scoped>\n",
              "    .dataframe tbody tr th:only-of-type {\n",
              "        vertical-align: middle;\n",
              "    }\n",
              "\n",
              "    .dataframe tbody tr th {\n",
              "        vertical-align: top;\n",
              "    }\n",
              "\n",
              "    .dataframe thead th {\n",
              "        text-align: right;\n",
              "    }\n",
              "</style>\n",
              "<table border=\"1\" class=\"dataframe\">\n",
              "  <thead>\n",
              "    <tr style=\"text-align: right;\">\n",
              "      <th></th>\n",
              "      <th>Vtot</th>\n",
              "      <th>r</th>\n",
              "      <th>ang_sep</th>\n",
              "      <th>tang sep</th>\n",
              "    </tr>\n",
              "  </thead>\n",
              "  <tbody>\n",
              "    <tr>\n",
              "      <th>0</th>\n",
              "      <td>3.678304e+05</td>\n",
              "      <td>1.079050e+23</td>\n",
              "      <td>0.013026</td>\n",
              "      <td>1.405517e+21</td>\n",
              "    </tr>\n",
              "    <tr>\n",
              "      <th>1</th>\n",
              "      <td>1.315860e+05</td>\n",
              "      <td>1.079050e+23</td>\n",
              "      <td>0.006100</td>\n",
              "      <td>6.582713e+20</td>\n",
              "    </tr>\n",
              "    <tr>\n",
              "      <th>2</th>\n",
              "      <td>2.710017e+05</td>\n",
              "      <td>1.079050e+23</td>\n",
              "      <td>0.001735</td>\n",
              "      <td>1.871725e+20</td>\n",
              "    </tr>\n",
              "    <tr>\n",
              "      <th>3</th>\n",
              "      <td>1.166081e+05</td>\n",
              "      <td>1.079050e+23</td>\n",
              "      <td>0.003867</td>\n",
              "      <td>4.172682e+20</td>\n",
              "    </tr>\n",
              "    <tr>\n",
              "      <th>4</th>\n",
              "      <td>2.878988e+05</td>\n",
              "      <td>1.079050e+23</td>\n",
              "      <td>0.001290</td>\n",
              "      <td>1.391498e+20</td>\n",
              "    </tr>\n",
              "    <tr>\n",
              "      <th>...</th>\n",
              "      <td>...</td>\n",
              "      <td>...</td>\n",
              "      <td>...</td>\n",
              "      <td>...</td>\n",
              "    </tr>\n",
              "    <tr>\n",
              "      <th>532</th>\n",
              "      <td>1.108875e+08</td>\n",
              "      <td>1.079050e+23</td>\n",
              "      <td>0.545478</td>\n",
              "      <td>5.885976e+22</td>\n",
              "    </tr>\n",
              "    <tr>\n",
              "      <th>533</th>\n",
              "      <td>5.318027e+07</td>\n",
              "      <td>1.079050e+23</td>\n",
              "      <td>0.275722</td>\n",
              "      <td>2.975183e+22</td>\n",
              "    </tr>\n",
              "    <tr>\n",
              "      <th>534</th>\n",
              "      <td>6.630878e+07</td>\n",
              "      <td>1.079050e+23</td>\n",
              "      <td>0.224953</td>\n",
              "      <td>2.427358e+22</td>\n",
              "    </tr>\n",
              "    <tr>\n",
              "      <th>535</th>\n",
              "      <td>1.517244e+08</td>\n",
              "      <td>1.079050e+23</td>\n",
              "      <td>0.343098</td>\n",
              "      <td>3.702198e+22</td>\n",
              "    </tr>\n",
              "    <tr>\n",
              "      <th>536</th>\n",
              "      <td>4.229370e+07</td>\n",
              "      <td>1.079050e+23</td>\n",
              "      <td>0.196996</td>\n",
              "      <td>2.125682e+22</td>\n",
              "    </tr>\n",
              "  </tbody>\n",
              "</table>\n",
              "<p>537 rows × 4 columns</p>\n",
              "</div>\n",
              "      <button class=\"colab-df-convert\" onclick=\"convertToInteractive('df-e62f1e46-bfcf-4192-b37e-3b8f1b246cdc')\"\n",
              "              title=\"Convert this dataframe to an interactive table.\"\n",
              "              style=\"display:none;\">\n",
              "        \n",
              "  <svg xmlns=\"http://www.w3.org/2000/svg\" height=\"24px\"viewBox=\"0 0 24 24\"\n",
              "       width=\"24px\">\n",
              "    <path d=\"M0 0h24v24H0V0z\" fill=\"none\"/>\n",
              "    <path d=\"M18.56 5.44l.94 2.06.94-2.06 2.06-.94-2.06-.94-.94-2.06-.94 2.06-2.06.94zm-11 1L8.5 8.5l.94-2.06 2.06-.94-2.06-.94L8.5 2.5l-.94 2.06-2.06.94zm10 10l.94 2.06.94-2.06 2.06-.94-2.06-.94-.94-2.06-.94 2.06-2.06.94z\"/><path d=\"M17.41 7.96l-1.37-1.37c-.4-.4-.92-.59-1.43-.59-.52 0-1.04.2-1.43.59L10.3 9.45l-7.72 7.72c-.78.78-.78 2.05 0 2.83L4 21.41c.39.39.9.59 1.41.59.51 0 1.02-.2 1.41-.59l7.78-7.78 2.81-2.81c.8-.78.8-2.07 0-2.86zM5.41 20L4 18.59l7.72-7.72 1.47 1.35L5.41 20z\"/>\n",
              "  </svg>\n",
              "      </button>\n",
              "      \n",
              "  <style>\n",
              "    .colab-df-container {\n",
              "      display:flex;\n",
              "      flex-wrap:wrap;\n",
              "      gap: 12px;\n",
              "    }\n",
              "\n",
              "    .colab-df-convert {\n",
              "      background-color: #E8F0FE;\n",
              "      border: none;\n",
              "      border-radius: 50%;\n",
              "      cursor: pointer;\n",
              "      display: none;\n",
              "      fill: #1967D2;\n",
              "      height: 32px;\n",
              "      padding: 0 0 0 0;\n",
              "      width: 32px;\n",
              "    }\n",
              "\n",
              "    .colab-df-convert:hover {\n",
              "      background-color: #E2EBFA;\n",
              "      box-shadow: 0px 1px 2px rgba(60, 64, 67, 0.3), 0px 1px 3px 1px rgba(60, 64, 67, 0.15);\n",
              "      fill: #174EA6;\n",
              "    }\n",
              "\n",
              "    [theme=dark] .colab-df-convert {\n",
              "      background-color: #3B4455;\n",
              "      fill: #D2E3FC;\n",
              "    }\n",
              "\n",
              "    [theme=dark] .colab-df-convert:hover {\n",
              "      background-color: #434B5C;\n",
              "      box-shadow: 0px 1px 3px 1px rgba(0, 0, 0, 0.15);\n",
              "      filter: drop-shadow(0px 1px 2px rgba(0, 0, 0, 0.3));\n",
              "      fill: #FFFFFF;\n",
              "    }\n",
              "  </style>\n",
              "\n",
              "      <script>\n",
              "        const buttonEl =\n",
              "          document.querySelector('#df-e62f1e46-bfcf-4192-b37e-3b8f1b246cdc button.colab-df-convert');\n",
              "        buttonEl.style.display =\n",
              "          google.colab.kernel.accessAllowed ? 'block' : 'none';\n",
              "\n",
              "        async function convertToInteractive(key) {\n",
              "          const element = document.querySelector('#df-e62f1e46-bfcf-4192-b37e-3b8f1b246cdc');\n",
              "          const dataTable =\n",
              "            await google.colab.kernel.invokeFunction('convertToInteractive',\n",
              "                                                     [key], {});\n",
              "          if (!dataTable) return;\n",
              "\n",
              "          const docLinkHtml = 'Like what you see? Visit the ' +\n",
              "            '<a target=\"_blank\" href=https://colab.research.google.com/notebooks/data_table.ipynb>data table notebook</a>'\n",
              "            + ' to learn more about interactive tables.';\n",
              "          element.innerHTML = '';\n",
              "          dataTable['output_type'] = 'display_data';\n",
              "          await google.colab.output.renderOutput(dataTable, element);\n",
              "          const docLink = document.createElement('div');\n",
              "          docLink.innerHTML = docLinkHtml;\n",
              "          element.appendChild(docLink);\n",
              "        }\n",
              "      </script>\n",
              "    </div>\n",
              "  </div>\n",
              "  "
            ]
          },
          "metadata": {},
          "execution_count": 52
        },
        {
          "output_type": "display_data",
          "data": {
            "text/plain": [
              "<Figure size 640x480 with 1 Axes>"
            ],
            "image/png": "[encoded data removed]"
          },
          "metadata": {}
        }
      ]
    }
  ],
  "metadata": {
    "colab": {
      "provenance": [],
      "authorship_tag": "ABX9TyMADaLpOQBl/ehP/qj2zYEc",
      "include_colab_link": true
    },
    "kernelspec": {
      "display_name": "Python 3",
      "name": "python3"
    },
    "language_info": {
      "name": "python"
    }
  },
  "nbformat": 4,
  "nbformat_minor": 0
}